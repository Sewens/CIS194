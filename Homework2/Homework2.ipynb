{
 "cells": [
  {
   "cell_type": "code",
   "execution_count": 1,
   "id": "4ee5470c",
   "metadata": {},
   "outputs": [],
   "source": [
    "data Thing = Shoe \n",
    "           | Ship \n",
    "           | SealingWax \n",
    "           | Cabbage \n",
    "           | King\n",
    "  deriving Show"
   ]
  },
  {
   "cell_type": "code",
   "execution_count": 5,
   "id": "3e316135",
   "metadata": {},
   "outputs": [],
   "source": [
    "asd::Thing\n",
    "asd=Shoe"
   ]
  },
  {
   "cell_type": "code",
   "execution_count": 6,
   "id": "e4dcf18b",
   "metadata": {},
   "outputs": [
    {
     "data": {
      "text/plain": [
       "Shoe"
      ]
     },
     "metadata": {},
     "output_type": "display_data"
    }
   ],
   "source": [
    "shoe :: Thing\n",
    "shoe = Shoe\n",
    "\n",
    "listO'Things :: [Thing]\n",
    "listO'Things = [Shoe, SealingWax, King, Cabbage, King]"
   ]
  },
  {
   "cell_type": "code",
   "execution_count": 8,
   "id": "bcb9c0c3",
   "metadata": {},
   "outputs": [],
   "source": [
    "shoe :: Thing\n",
    "shoe = Shoe\n",
    "\n",
    "listO'Things :: [Thing]\n",
    "listO'Things = [Shoe, SealingWax, King, Cabbage, King]\n"
   ]
  },
  {
   "cell_type": "code",
   "execution_count": 9,
   "id": "e65a32f5",
   "metadata": {},
   "outputs": [],
   "source": [
    "isSmall :: Thing -> Bool\n",
    "isSmall Shoe       = True\n",
    "isSmall Ship       = False\n",
    "isSmall SealingWax = True\n",
    "isSmall Cabbage    = True\n",
    "isSmall King       = False"
   ]
  },
  {
   "cell_type": "code",
   "execution_count": null,
   "id": "c2f59797",
   "metadata": {},
   "outputs": [],
   "source": []
  },
  {
   "cell_type": "code",
   "execution_count": 10,
   "id": "f0e07c28",
   "metadata": {},
   "outputs": [],
   "source": [
    "isSmall2 :: Thing -> Bool\n",
    "isSmall2 Ship = False\n",
    "isSmall2 King = False\n",
    "isSmall2 _    = True"
   ]
  },
  {
   "cell_type": "code",
   "execution_count": null,
   "id": "9fcd927e",
   "metadata": {},
   "outputs": [],
   "source": []
  }
 ],
 "metadata": {
  "kernelspec": {
   "display_name": "Haskell",
   "language": "haskell",
   "name": "haskell"
  },
  "language_info": {
   "codemirror_mode": "ihaskell",
   "file_extension": ".hs",
   "mimetype": "text/x-haskell",
   "name": "haskell",
   "pygments_lexer": "Haskell",
   "version": "9.6.4"
  }
 },
 "nbformat": 4,
 "nbformat_minor": 5
}
